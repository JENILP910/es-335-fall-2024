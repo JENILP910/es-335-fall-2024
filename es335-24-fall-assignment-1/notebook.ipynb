{
 "cells": [
  {
   "cell_type": "code",
   "execution_count": 5,
   "metadata": {},
   "outputs": [],
   "source": [
    "import numpy as np\n",
    "import pandas as pd\n",
    "import matplotlib.pyplot as plt\n",
    "from sklearn.model_selection import train_test_split\n",
    "%config InlineBackend.figure_format='retina'\n",
    "%matplotlib inline"
   ]
  },
  {
   "cell_type": "code",
   "execution_count": 40,
   "metadata": {},
   "outputs": [
    {
     "name": "stdout",
     "output_type": "stream",
     "text": [
      "[<pandas.core.indexing._LocIndexer object at 0x32bb14140>]\n"
     ]
    }
   ],
   "source": [
    "subject_train = pd.read_csv('HAR_dataset/UCI HAR Dataset/train/subject_train.txt', delim_whitespace=True, header=None)\n",
    "labels_train = pd.read_csv('HAR_dataset/UCI HAR Dataset/train/y_train.txt', delim_whitespace=True, header=None)\n",
    "x_train = pd.read_csv('HAR_dataset/UCI HAR Dataset/train/X_train.txt', delim_whitespace=True, header=None)\n",
    "activity = pd.read_csv('HAR_dataset/UCI HAR Dataset/activity_labels.txt', delim_whitespace=True, header=None)\n",
    "feature = pd.read_csv('HAR_dataset/UCI HAR Dataset/features.txt', delim_whitespace=True, header=None)\n",
    "feature.columns = ['feature_id', 'feature_name']\n",
    "df = pd.concat([subject_train, labels_train, x_train], axis=1)\n",
    "df.columns = ['subject_train', 'labels_train'] + list(feature['feature_name'])\n",
    "activity_list = list(map(lambda x: activity.loc(x), labels_train))\n",
    "# for subjects in np.unique(subject_train):\n",
    "#     for activity in "
   ]
  },
  {
   "cell_type": "code",
   "execution_count": null,
   "metadata": {},
   "outputs": [],
   "source": []
  }
 ],
 "metadata": {
  "kernelspec": {
   "display_name": "mlenv",
   "language": "python",
   "name": "python3"
  },
  "language_info": {
   "codemirror_mode": {
    "name": "ipython",
    "version": 3
   },
   "file_extension": ".py",
   "mimetype": "text/x-python",
   "name": "python",
   "nbconvert_exporter": "python",
   "pygments_lexer": "ipython3",
   "version": "3.11.9"
  }
 },
 "nbformat": 4,
 "nbformat_minor": 2
}
